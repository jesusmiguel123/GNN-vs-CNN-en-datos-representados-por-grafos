{
  "cells": [
    {
      "cell_type": "markdown",
      "metadata": {
        "id": "H-y0pZ0orU7i"
      },
      "source": [
        "# Proyecto de Tesis"
      ]
    },
    {
      "cell_type": "code",
      "execution_count": 32,
      "metadata": {
        "id": "1ZgJW-KHrU7o"
      },
      "outputs": [],
      "source": [
        "import torch\n",
        "import torchvision\n",
        "\n",
        "from torch_geometric.data import Data\n",
        "from torch_geometric.loader import DataLoader\n",
        "from torch_geometric.nn import GCNConv\n",
        "\n",
        "from torch_scatter import  scatter_max\n",
        "\n",
        "import matplotlib.pyplot as plt\n",
        "import numpy as np\n",
        "\n",
        "device = 'cuda' if torch.cuda.is_available() else 'cpu'"
      ]
    },
    {
      "cell_type": "markdown",
      "source": [
        "## CNN"
      ],
      "metadata": {
        "id": "Y911sYPL2_em"
      }
    },
    {
      "cell_type": "code",
      "execution_count": 3,
      "metadata": {
        "colab": {
          "base_uri": "https://localhost:8080/",
          "height": 442,
          "referenced_widgets": [
            "d33a9de7884440688ba787d98c6bd6c1",
            "4ffab45c0ed34363a1474eb57ae1f082",
            "ced418dadb77450197c12e518d9fb96f",
            "8e9c41cf14a046779de9c56d78da08d0",
            "bea548044926462d8358f3240133d3c2",
            "20aad3bea08149cc86959e2e7af87b84",
            "632177d47f454b508d95d1ad1ebe09ad",
            "a331963a6b7c4d37ba602c5faf2a803d",
            "a5b32f8bc357462d80017ea0a53d8205",
            "d5954db72a5440eb8de57b0b7b79f093",
            "2faa0c98aa734f76a9ba10785171c47c",
            "917be3272fbc4c57a9b9e38d6be2abf7",
            "4fcb6e4d7aad43909bfa80f8b68a85aa",
            "6e932eb7d8bf44ec9fbf333d2649c987",
            "720c36fbc53a498cadd9eea9a04447d3",
            "8cc1fd6897614bd1a149e6c4dc96b4b9",
            "12bf0414b8f54ea980b8d4aeb2e4bcfa",
            "18ef91845d8c42de8a1051665a709e28",
            "bf3df7cd374a45dcafbfd331000f4783",
            "cba0916c2b774310a16188ebc6832047",
            "2b5f4af307a9459eb9572622acc7bf94",
            "3b013f2e19eb423dbfac51238ac6a88c",
            "b97af0ab4833499681a247dbbb849cf0",
            "ed14aeed48574d5786621a87a518bad6",
            "beae79c0b46d4e6a9b6d2275edbaaf42",
            "a0006076a9cc49178f84d867dfaeb5b5",
            "8aab5b2066bc449ab56518f27e5674ff",
            "9d3c644e855b436984c10fb7b6513da5",
            "ecbd324ddf794ee3ab69ca7eddc386e0",
            "6a0e04f8644d4951a3517b8998060b69",
            "6d1f647c5e3e44a0adb3c53926135078",
            "0454d6c23d4f4f47afd53a4a1c03bee4",
            "22269cfa58d44276b6e5802436dfa627",
            "27ccaf33307b4361af54598c6a3c4d05",
            "f90e2b03b68045a4a3c3776b6027e337",
            "4faaaa45ce3f4e01b4d88f090ccf56c1",
            "07385d4638cb4930a316c52e44575c05",
            "5dd76fe6306b4a878e31cff241a293b4",
            "e817dd30ee264dfcbad86dc86cc5fb2b",
            "9aea9e406e5c46fc94eb26d26a9fe5ff",
            "3b97ada5f798416394b495c89999d9f1",
            "3c3455c11f294ac6900d93e6d7654980",
            "d64dc980adce4dd28a166101e80aa0eb",
            "24f3b8248e984eea89d252c3ec878aac"
          ]
        },
        "id": "sFlfy-MyrU7q",
        "outputId": "97370f20-0bdd-4a9f-b687-a0a5a6ce12d1"
      },
      "outputs": [
        {
          "output_type": "stream",
          "name": "stdout",
          "text": [
            "Downloading http://yann.lecun.com/exdb/mnist/train-images-idx3-ubyte.gz\n",
            "Downloading http://yann.lecun.com/exdb/mnist/train-images-idx3-ubyte.gz to ./Convolucional/MNIST/raw/train-images-idx3-ubyte.gz\n"
          ]
        },
        {
          "output_type": "display_data",
          "data": {
            "application/vnd.jupyter.widget-view+json": {
              "model_id": "d33a9de7884440688ba787d98c6bd6c1",
              "version_minor": 0,
              "version_major": 2
            },
            "text/plain": [
              "  0%|          | 0/9912422 [00:00<?, ?it/s]"
            ]
          },
          "metadata": {}
        },
        {
          "output_type": "stream",
          "name": "stdout",
          "text": [
            "Extracting ./Convolucional/MNIST/raw/train-images-idx3-ubyte.gz to ./Convolucional/MNIST/raw\n",
            "\n",
            "Downloading http://yann.lecun.com/exdb/mnist/train-labels-idx1-ubyte.gz\n",
            "Downloading http://yann.lecun.com/exdb/mnist/train-labels-idx1-ubyte.gz to ./Convolucional/MNIST/raw/train-labels-idx1-ubyte.gz\n"
          ]
        },
        {
          "output_type": "display_data",
          "data": {
            "application/vnd.jupyter.widget-view+json": {
              "model_id": "917be3272fbc4c57a9b9e38d6be2abf7",
              "version_minor": 0,
              "version_major": 2
            },
            "text/plain": [
              "  0%|          | 0/28881 [00:00<?, ?it/s]"
            ]
          },
          "metadata": {}
        },
        {
          "output_type": "stream",
          "name": "stdout",
          "text": [
            "Extracting ./Convolucional/MNIST/raw/train-labels-idx1-ubyte.gz to ./Convolucional/MNIST/raw\n",
            "\n",
            "Downloading http://yann.lecun.com/exdb/mnist/t10k-images-idx3-ubyte.gz\n",
            "Downloading http://yann.lecun.com/exdb/mnist/t10k-images-idx3-ubyte.gz to ./Convolucional/MNIST/raw/t10k-images-idx3-ubyte.gz\n"
          ]
        },
        {
          "output_type": "display_data",
          "data": {
            "application/vnd.jupyter.widget-view+json": {
              "model_id": "b97af0ab4833499681a247dbbb849cf0",
              "version_minor": 0,
              "version_major": 2
            },
            "text/plain": [
              "  0%|          | 0/1648877 [00:00<?, ?it/s]"
            ]
          },
          "metadata": {}
        },
        {
          "output_type": "stream",
          "name": "stdout",
          "text": [
            "Extracting ./Convolucional/MNIST/raw/t10k-images-idx3-ubyte.gz to ./Convolucional/MNIST/raw\n",
            "\n",
            "Downloading http://yann.lecun.com/exdb/mnist/t10k-labels-idx1-ubyte.gz\n",
            "Downloading http://yann.lecun.com/exdb/mnist/t10k-labels-idx1-ubyte.gz to ./Convolucional/MNIST/raw/t10k-labels-idx1-ubyte.gz\n"
          ]
        },
        {
          "output_type": "display_data",
          "data": {
            "application/vnd.jupyter.widget-view+json": {
              "model_id": "27ccaf33307b4361af54598c6a3c4d05",
              "version_minor": 0,
              "version_major": 2
            },
            "text/plain": [
              "  0%|          | 0/4542 [00:00<?, ?it/s]"
            ]
          },
          "metadata": {}
        },
        {
          "output_type": "stream",
          "name": "stdout",
          "text": [
            "Extracting ./Convolucional/MNIST/raw/t10k-labels-idx1-ubyte.gz to ./Convolucional/MNIST/raw\n",
            "\n"
          ]
        }
      ],
      "source": [
        "dataloader = {\n",
        "    'train': torch.utils.data.DataLoader(torchvision.datasets.MNIST('./Convolucional', train=True, download=True,\n",
        "                       transform = torchvision.transforms.Compose([\n",
        "                            torchvision.transforms.ToTensor(),\n",
        "                            torchvision.transforms.Normalize((0.1307,), (0.3081,))\n",
        "                            ])\n",
        "                      ), batch_size=64, shuffle=True, pin_memory=True),\n",
        "    'test': torch.utils.data.DataLoader(torchvision.datasets.MNIST('./Convolucional', train=False, download=True,\n",
        "                     transform = torchvision.transforms.Compose([\n",
        "                        torchvision.transforms.ToTensor(),\n",
        "                        torchvision.transforms.Normalize((0.1307,), (0.3081,))\n",
        "                        ])\n",
        "                     ), batch_size=64, shuffle=False, pin_memory=True)\n",
        "}"
      ]
    },
    {
      "cell_type": "code",
      "execution_count": 4,
      "metadata": {
        "id": "Qekx9sZorU7q"
      },
      "outputs": [],
      "source": [
        "def block(c_in, c_out, k=3, p=1, s=1, pk=2, ps=2):\n",
        "    return torch.nn.Sequential(\n",
        "        torch.nn.Conv2d(c_in, c_out, k, padding=p, stride=s),\n",
        "        torch.nn.ReLU(),\n",
        "        torch.nn.MaxPool2d(pk, stride=ps)\n",
        "    )\n",
        "\n",
        "class CNN(torch.nn.Module):\n",
        "  def __init__(self, n_channels=1, n_outputs=10):\n",
        "    super().__init__()\n",
        "    self.conv1 = block(n_channels, 64)\n",
        "    self.conv2 = block(64, 128)\n",
        "    self.fc = torch.nn.Linear(128*7*7, n_outputs)\n",
        "\n",
        "  def forward(self, x):\n",
        "    x = self.conv1(x)\n",
        "    x = self.conv2(x)\n",
        "    x = x.view(x.shape[0], -1)\n",
        "    x = self.fc(x)\n",
        "    return x"
      ]
    },
    {
      "cell_type": "code",
      "execution_count": 5,
      "metadata": {
        "id": "5HjK8OKarU7r"
      },
      "outputs": [],
      "source": [
        "def fit(model, dataloader, epochs=5):\n",
        "  model.to(device)\n",
        "  optimizer = torch.optim.Adam(model.parameters(), lr=1e-3)\n",
        "  criterion = torch.nn.CrossEntropyLoss()\n",
        "  convTrainLossMean, convValLossMean, convTrainAccMean, convValAccMean = [0.0], [0.0], [0.0], [0.0]\n",
        "  for epoch in range(1, epochs+1):\n",
        "    model.train()\n",
        "    convTrainLoss, convTrainAcc = [], []\n",
        "    batches = dataloader['train']\n",
        "    for batch in batches:\n",
        "      X, y = batch\n",
        "      X, y = X.to(device), y.to(device)\n",
        "      optimizer.zero_grad()\n",
        "      y_hat = model(X)\n",
        "      loss = criterion(y_hat, y)\n",
        "      loss.backward()\n",
        "      optimizer.step()\n",
        "      convTrainLoss.append(loss.item())\n",
        "      acc = (y == torch.argmax(y_hat, axis=1)).sum().item() / len(y)\n",
        "      convTrainAcc.append(acc)\n",
        "    batches = dataloader['test']\n",
        "    convValLoss, convValAcc = [], []\n",
        "    model.eval()\n",
        "    with torch.no_grad():\n",
        "      for batch in batches:\n",
        "        X, y = batch\n",
        "        X, y = X.to(device), y.to(device)\n",
        "        y_hat = model(X)\n",
        "        loss = criterion(y_hat, y)\n",
        "        convValLoss.append(loss.item())\n",
        "        acc = (y == torch.argmax(y_hat, axis=1)).sum().item() / len(y)\n",
        "        convValAcc.append(acc)\n",
        "    convTrainLossMean.append(np.mean(convTrainLoss))\n",
        "    convValLossMean.append(np.mean(convValLoss))\n",
        "    convTrainAccMean.append(np.mean(convTrainAcc))\n",
        "    convValAccMean.append(np.mean(convValAcc))\n",
        "    print(f\"Epoch {epoch}/{epochs} loss {np.mean(convTrainLoss):.5f} val_loss {np.mean(convValLoss):.5f} acc {np.mean(convTrainAcc):.5f} val_acc {np.mean(convValAcc):.5f}\")\n",
        "  return convTrainLossMean, convValLossMean, convTrainAccMean, convValAccMean"
      ]
    },
    {
      "cell_type": "code",
      "execution_count": 6,
      "metadata": {
        "colab": {
          "base_uri": "https://localhost:8080/"
        },
        "id": "_uGf8gUkrU7s",
        "outputId": "156be7c1-bca2-422b-d2dd-a34d355980db"
      },
      "outputs": [
        {
          "output_type": "stream",
          "name": "stdout",
          "text": [
            "Epoch 1/5 loss 0.10914 val_loss 0.04016 acc 0.96742 val_acc 0.98726\n",
            "Epoch 2/5 loss 0.03894 val_loss 0.03585 acc 0.98771 val_acc 0.98656\n",
            "Epoch 3/5 loss 0.02618 val_loss 0.03462 acc 0.99150 val_acc 0.98885\n",
            "Epoch 4/5 loss 0.01954 val_loss 0.03009 acc 0.99370 val_acc 0.99074\n",
            "Epoch 5/5 loss 0.01517 val_loss 0.03362 acc 0.99517 val_acc 0.99025\n"
          ]
        }
      ],
      "source": [
        "CNNmodel = CNN()\n",
        "\n",
        "epochs = 5\n",
        "\n",
        "convTrainLoss, convValLoss, convTrainAcc, convValAcc = fit(CNNmodel, dataloader, epochs=epochs)"
      ]
    },
    {
      "cell_type": "code",
      "source": [
        "ep = np.arange(0, epochs + 1,1)\n",
        "plt.plot(ep, convTrainLoss, label=\"Train\")\n",
        "plt.plot(ep, convValLoss, label=\"Validation\")\n",
        "\n",
        "plt.title(\"Loss\")\n",
        "plt.xlabel(\"Epochs\")\n",
        "plt.ylabel(\"Loss\")\n",
        "\n",
        "plt.legend()\n",
        "\n",
        "plt.show()"
      ],
      "metadata": {
        "colab": {
          "base_uri": "https://localhost:8080/",
          "height": 295
        },
        "id": "eqcmukn2ugLs",
        "outputId": "1af87afe-0acf-46e4-e699-36a8f9794b65"
      },
      "execution_count": 7,
      "outputs": [
        {
          "output_type": "display_data",
          "data": {
            "image/png": "[encoded data removed]",
            "text/plain": [
              "<Figure size 432x288 with 1 Axes>"
            ]
          },
          "metadata": {
            "needs_background": "light"
          }
        }
      ]
    },
    {
      "cell_type": "code",
      "source": [
        "ep = np.arange(0, epochs + 1,1)\n",
        "plt.plot(ep, convTrainAcc, label=\"Train\")\n",
        "plt.plot(ep, convValAcc, label=\"Validation\")\n",
        "\n",
        "plt.title(\"Accuracy\")\n",
        "plt.xlabel(\"Epochs\")\n",
        "plt.ylabel(\"Accuracy\")\n",
        "\n",
        "plt.legend()\n",
        "\n",
        "plt.show()"
      ],
      "metadata": {
        "colab": {
          "base_uri": "https://localhost:8080/",
          "height": 295
        },
        "id": "HCd8YjBM2oU9",
        "outputId": "901fdb4a-61cd-419f-8366-3d40e5b179a9"
      },
      "execution_count": 8,
      "outputs": [
        {
          "output_type": "display_data",
          "data": {
            "image/png": "[encoded data removed]",
            "text/plain": [
              "<Figure size 432x288 with 1 Axes>"
            ]
          },
          "metadata": {
            "needs_background": "light"
          }
        }
      ]
    },
    {
      "cell_type": "markdown",
      "source": [
        "## GNN"
      ],
      "metadata": {
        "id": "RWInd7VE3Ek2"
      }
    },
    {
      "cell_type": "code",
      "source": [
        "!pip install torch-scatter torch-sparse torch-cluster torch-spline-conv torch-geometric -f https://data.pyg.org/whl/torch-1.10.0+cu111.html"
      ],
      "metadata": {
        "id": "BjHmc6lM3Xb7"
      },
      "execution_count": null,
      "outputs": []
    },
    {
      "cell_type": "code",
      "source": [
        "train = torchvision.datasets.MNIST('./GNN', train=True, download=True)\n",
        "test = torchvision.datasets.MNIST('./GNN', train=False, download=True)"
      ],
      "metadata": {
        "id": "OoMtpZzWoP2A"
      },
      "execution_count": null,
      "outputs": []
    },
    {
      "cell_type": "code",
      "source": [
        "def createNodesandEdges(data, labels):\n",
        "  listData = []\n",
        "  for n, imgit in enumerate(data):\n",
        "    imgit = imgit.numpy()\n",
        "    imgit = np.where(imgit == 0, -1, imgit)\n",
        "    imgit = np.pad(imgit, [(2, 2), (2, 2)], \"constant\", constant_values = (0))\n",
        "\n",
        "    cnt = 0\n",
        "\n",
        "    for i in range(2, 30):\n",
        "      for j in range(2, 30):\n",
        "        if (imgit[i][j] > -1):\n",
        "          imgit[i][j] = cnt\n",
        "          cnt = cnt + 1\n",
        "    \n",
        "    edges = []\n",
        "    nodes = np.zeros((cnt, 2))\n",
        "\n",
        "    for i in range(2, 30):\n",
        "      for j in range(2, 30):\n",
        "        if (imgit[i][j] == -1):\n",
        "          continue\n",
        "\n",
        "        filter = imgit[i - 2:i + 3, j - 2:j + 3].flatten()\n",
        "        filterVal = filter[[6, 7, 8, 11, 13, 16, 17, 18]]\n",
        "\n",
        "        nodes[filter[12]][0] = i - 2\n",
        "        nodes[filter[12]][1] = j - 2\n",
        "\n",
        "        for val in filterVal:\n",
        "          if (not val == -1):\n",
        "            edges.append([filter[12], val])\n",
        "\n",
        "    edge = torch.tensor(np.array(edges).T, dtype=torch.long)\n",
        "    node = torch.tensor(nodes/28, dtype=torch.float)\n",
        "\n",
        "    d = Data(x=node, edge_index=edge.contiguous(), t=labels[n])\n",
        "    listData.append(d)\n",
        "\n",
        "    if(n % 1000 == 999):\n",
        "      print(\"\\rLoaded: \" + str(n + 1), end=\" \")\n",
        "    \n",
        "  print(\"Finished\")\n",
        "  return listData"
      ],
      "metadata": {
        "id": "Wwwz53L63Kad"
      },
      "execution_count": 13,
      "outputs": []
    },
    {
      "cell_type": "code",
      "source": [
        "trainData = createNodesandEdges(train.data, train.targets)"
      ],
      "metadata": {
        "colab": {
          "base_uri": "https://localhost:8080/"
        },
        "id": "C7ac23lAohdf",
        "outputId": "3ab4fca8-fe86-48de-88ed-7e960d6c0712"
      },
      "execution_count": 14,
      "outputs": [
        {
          "output_type": "stream",
          "name": "stdout",
          "text": [
            "Loaded: 60000 Finished\n"
          ]
        }
      ]
    },
    {
      "cell_type": "code",
      "source": [
        "testData = createNodesandEdges(test.data, test.targets)"
      ],
      "metadata": {
        "colab": {
          "base_uri": "https://localhost:8080/"
        },
        "id": "stpaZ6R_11DR",
        "outputId": "01109edf-1265-48ec-b314-30e6d485e538"
      },
      "execution_count": 15,
      "outputs": [
        {
          "output_type": "stream",
          "name": "stdout",
          "text": [
            "Loaded: 10000 Finished\n"
          ]
        }
      ]
    },
    {
      "cell_type": "code",
      "source": [
        "dataloader = {\n",
        "    'train': trainData,\n",
        "    'test': testData\n",
        "}"
      ],
      "metadata": {
        "id": "qAL5Il-z63X8"
      },
      "execution_count": 37,
      "outputs": []
    },
    {
      "cell_type": "code",
      "source": [
        "class GCN(torch.nn.Module):\n",
        "  def __init__(self):\n",
        "    super(GCN, self).__init__()\n",
        "    self.conv1 = GCNConv(2, 16)\n",
        "    self.conv2 = GCNConv(16, 32)\n",
        "    self.conv3 = GCNConv(32, 48)\n",
        "    self.conv4 = GCNConv(48, 64)\n",
        "    self.conv5 = GCNConv(64, 96)\n",
        "    self.conv6 = GCNConv(96, 128)\n",
        "    self.linear1 = torch.nn.Linear(128,64)\n",
        "    self.linear2 = torch.nn.Linear(64,10)\n",
        "\n",
        "  def forward(self, data):\n",
        "    x, edge_index = data.x, data.edge_index\n",
        "\n",
        "    x = self.conv1(x, edge_index)\n",
        "    x = torch.nn.functional.relu(x)\n",
        "\n",
        "    x = self.conv2(x, edge_index)\n",
        "    x = torch.nn.functional.relu(x)\n",
        "\n",
        "    x = self.conv3(x, edge_index)\n",
        "    x = torch.nn.functional.relu(x)\n",
        "\n",
        "    x = self.conv4(x, edge_index)\n",
        "    x = torch.nn.functional.relu(x)\n",
        "\n",
        "    x = self.conv5(x, edge_index)\n",
        "    x = torch.nn.functional.relu(x)\n",
        "\n",
        "    x = self.conv6(x, edge_index)\n",
        "    x = torch.nn.functional.relu(x)\n",
        "        \n",
        "    x, _ = scatter_max(x, data.batch, dim=0)\n",
        "    x = self.linear1(x)\n",
        "    x = torch.nn.functional.relu(x)\n",
        "\n",
        "    x = self.linear2(x)\n",
        "    return x"
      ],
      "metadata": {
        "id": "JqJnYJ2T1dVK"
      },
      "execution_count": 35,
      "outputs": []
    },
    {
      "cell_type": "code",
      "source": [
        "def fit(model, dataloader, batch_size, epochs=5):\n",
        "  model = model.to(device)\n",
        "  optimizer = torch.optim.Adam(model.parameters())\n",
        "  criterion = torch.nn.CrossEntropyLoss()\n",
        "  \n",
        "  trainset = dataloader['train']\n",
        "  trainloader = DataLoader(trainset, batch_size=batch_size, shuffle=True)\n",
        "  \n",
        "  testset = dataloader['test']\n",
        "  testloader = DataLoader(testset, batch_size=batch_size)\n",
        "\n",
        "  gcnTrainLossMean, gcnValLossMean, gcnTrainAccMean, gcnValAccMean = [0.0], [0.0], [0.0], [0.0]\n",
        "\n",
        "  for epoch in range(1, epochs+1):\n",
        "    model.train()\n",
        "    gcnTrainLoss, gcnTrainAcc = [], []\n",
        "    for batch in trainloader:\n",
        "      batch = batch.to(device)\n",
        "      optimizer.zero_grad()\n",
        "      y_hat = model(batch)\n",
        "      loss = criterion(y_hat, batch.t)\n",
        "      loss.backward()\n",
        "      optimizer.step()\n",
        "      gcnTrainLoss.append(loss.item())\n",
        "      acc = (batch.t == torch.argmax(y_hat, axis=1)).sum().item() / len(batch.t)\n",
        "      gcnTrainAcc.append(acc)\n",
        "    gcnValLoss, gcnValAcc = [], []\n",
        "    model.eval()\n",
        "    with torch.no_grad():\n",
        "      for batch in testloader:\n",
        "        batch = batch.to(device)\n",
        "        y_hat = model(batch)\n",
        "        loss = criterion(y_hat, batch.t)\n",
        "        gcnValLoss.append(loss.item())\n",
        "        acc = (batch.t == torch.argmax(y_hat, axis=1)).sum().item() / len(batch.t)\n",
        "        gcnValAcc.append(acc)\n",
        "    gcnTrainLossMean.append(np.mean(gcnTrainLoss))\n",
        "    gcnValLossMean.append(np.mean(gcnValLoss))\n",
        "    gcnTrainAccMean.append(np.mean(gcnTrainAcc))\n",
        "    gcnValAccMean.append(np.mean(gcnValAcc))\n",
        "    print(f\"Epoch {epoch}/{epochs} loss {np.mean(gcnTrainLoss):.5f} val_loss {np.mean(gcnValLoss):.5f} acc {np.mean(gcnTrainAcc):.5f} val_acc {np.mean(gcnValAcc):.5f}\")\n",
        "  return gcnTrainLossMean, gcnValLossMean, gcnTrainAccMean, gcnValAccMean\n",
        "    "
      ],
      "metadata": {
        "id": "VoiduQ_l4oxp"
      },
      "execution_count": 38,
      "outputs": []
    },
    {
      "cell_type": "code",
      "source": [
        "GCNmodel = GCN()\n",
        "\n",
        "batch_size = 100\n",
        "epochs = 5\n",
        "\n",
        "gcnTrainLoss, gcnValLoss, gcnTrainAcc, gcnValAcc = fit(GCNmodel, dataloader, batch_size=batch_size, epochs=epochs)"
      ],
      "metadata": {
        "colab": {
          "base_uri": "https://localhost:8080/"
        },
        "id": "qWoNs33l4vix",
        "outputId": "aa92aaa1-8da9-49e9-9c69-1b21a13519c8"
      },
      "execution_count": 39,
      "outputs": [
        {
          "output_type": "stream",
          "name": "stdout",
          "text": [
            "Epoch 1/5 loss 1.38255 val_loss 0.92832 acc 0.51290 val_acc 0.70580\n",
            "Epoch 2/5 loss 0.83263 val_loss 0.73989 acc 0.73145 val_acc 0.75850\n",
            "Epoch 3/5 loss 0.67865 val_loss 0.57563 acc 0.78643 val_acc 0.82030\n",
            "Epoch 4/5 loss 0.58464 val_loss 0.51113 acc 0.81707 val_acc 0.84270\n",
            "Epoch 5/5 loss 0.52081 val_loss 0.47288 acc 0.83495 val_acc 0.85350\n"
          ]
        }
      ]
    },
    {
      "cell_type": "code",
      "source": [
        "ep = np.arange(0, epochs + 1,1)\n",
        "plt.plot(ep, gcnTrainLoss, label=\"Train\")\n",
        "plt.plot(ep, gcnValLoss, label=\"Validation\")\n",
        "\n",
        "plt.title(\"Loss\")\n",
        "plt.xlabel(\"Epochs\")\n",
        "plt.ylabel(\"Loss\")\n",
        "\n",
        "plt.legend()\n",
        "\n",
        "plt.show()"
      ],
      "metadata": {
        "colab": {
          "base_uri": "https://localhost:8080/",
          "height": 295
        },
        "id": "hj6_VFAXGw2G",
        "outputId": "53c7b5c7-1c27-46b8-f364-9d9c4b8f5827"
      },
      "execution_count": 40,
      "outputs": [
        {
          "output_type": "display_data",
          "data": {
            "image/png": "[encoded data removed]",
            "text/plain": [
              "<Figure size 432x288 with 1 Axes>"
            ]
          },
          "metadata": {
            "needs_background": "light"
          }
        }
      ]
    },
    {
      "cell_type": "code",
      "source": [
        "ep = np.arange(0, epochs + 1,1)\n",
        "plt.plot(ep, gcnTrainAcc, label=\"Train\")\n",
        "plt.plot(ep, gcnValAcc, label=\"Validation\")\n",
        "\n",
        "plt.title(\"Accuracy\")\n",
        "plt.xlabel(\"Epochs\")\n",
        "plt.ylabel(\"Accuracy\")\n",
        "\n",
        "plt.legend()\n",
        "\n",
        "plt.show()"
      ],
      "metadata": {
        "colab": {
          "base_uri": "https://localhost:8080/",
          "height": 295
        },
        "id": "qM3bnK1bG3WO",
        "outputId": "6bddd105-c3ec-479c-9657-7dd5c4b385d5"
      },
      "execution_count": 41,
      "outputs": [
        {
          "output_type": "display_data",
          "data": {
            "image/png": "[encoded data removed]",
            "text/plain": [
              "<Figure size 432x288 with 1 Axes>"
            ]
          },
          "metadata": {
            "needs_background": "light"
          }
        }
      ]
    },
    {
      "cell_type": "markdown",
      "source": [
        "## Comparación"
      ],
      "metadata": {
        "id": "EoUKvtBWP8bv"
      }
    },
    {
      "cell_type": "code",
      "source": [
        "ep = np.arange(0, epochs + 1,1)\n",
        "\n",
        "plt.plot(ep, convTrainLoss, label=\"CNN Train\")\n",
        "plt.plot(ep, convValLoss, label=\"CNN Validation\")\n",
        "\n",
        "plt.plot(ep, gcnTrainLoss, label=\"GCN Train\")\n",
        "plt.plot(ep, gcnValLoss, label=\"GCN Validation\")\n",
        "\n",
        "plt.title(\"Loss\")\n",
        "plt.xlabel(\"Epochs\")\n",
        "plt.ylabel(\"Loss\")\n",
        "\n",
        "plt.legend()\n",
        "\n",
        "plt.show()"
      ],
      "metadata": {
        "colab": {
          "base_uri": "https://localhost:8080/",
          "height": 295
        },
        "id": "i-KT-3R1QB21",
        "outputId": "fad9d9ef-593d-4127-aa49-42835d6a2a16"
      },
      "execution_count": 45,
      "outputs": [
        {
          "output_type": "display_data",
          "data": {
            "image/png": "[encoded data removed]",
            "text/plain": [
              "<Figure size 432x288 with 1 Axes>"
            ]
          },
          "metadata": {
            "needs_background": "light"
          }
        }
      ]
    },
    {
      "cell_type": "code",
      "source": [
        "ep = np.arange(0, epochs + 1,1)\n",
        "\n",
        "plt.plot(ep, convTrainAcc, label=\"CNN Train\")\n",
        "plt.plot(ep, convValAcc, label=\"CNN Validation\")\n",
        "\n",
        "plt.plot(ep, gcnTrainAcc, label=\"GCN Train\")\n",
        "plt.plot(ep, gcnValAcc, label=\"GCN Validation\")\n",
        "\n",
        "plt.title(\"Accuracy\")\n",
        "plt.xlabel(\"Epochs\")\n",
        "plt.ylabel(\"Accuracy\")\n",
        "\n",
        "plt.legend()\n",
        "\n",
        "plt.show()"
      ],
      "metadata": {
        "colab": {
          "base_uri": "https://localhost:8080/",
          "height": 295
        },
        "id": "PMgYRkYTQONv",
        "outputId": "a3ee7067-c5b2-4876-dafd-dc1e80c6dcf2"
      },
      "execution_count": 47,
      "outputs": [
        {
          "output_type": "display_data",
          "data": {
            "image/png": "[encoded data removed]",
            "text/plain": [
              "<Figure size 432x288 with 1 Axes>"
            ]
          },
          "metadata": {
            "needs_background": "light"
          }
        }
      ]
    },
    {
      "cell_type": "code",
      "source": [
        "GCNmodel = GCN()\n",
        "\n",
        "batch_size = 100\n",
        "epochs = 20\n",
        "\n",
        "gcnTrainLoss20, gcnValLoss20, gcnTrainAcc20, gcnValAcc20 = fit(GCNmodel, dataloader, batch_size=batch_size, epochs=epochs)"
      ],
      "metadata": {
        "colab": {
          "base_uri": "https://localhost:8080/"
        },
        "id": "svaqALZFSBM-",
        "outputId": "230b058e-178b-4541-9e94-e4f37a594023"
      },
      "execution_count": 48,
      "outputs": [
        {
          "output_type": "stream",
          "name": "stdout",
          "text": [
            "Epoch 1/20 loss 1.67304 val_loss 1.37414 acc 0.37433 val_acc 0.47460\n",
            "Epoch 2/20 loss 1.17761 val_loss 1.01198 acc 0.59833 val_acc 0.66230\n",
            "Epoch 3/20 loss 0.95708 val_loss 0.89620 acc 0.68978 val_acc 0.71000\n",
            "Epoch 4/20 loss 0.85045 val_loss 0.75056 acc 0.72228 val_acc 0.75360\n",
            "Epoch 5/20 loss 0.71881 val_loss 0.63322 acc 0.75925 val_acc 0.78810\n",
            "Epoch 6/20 loss 0.59645 val_loss 0.55742 acc 0.80070 val_acc 0.80850\n",
            "Epoch 7/20 loss 0.52630 val_loss 0.46522 acc 0.82342 val_acc 0.84360\n",
            "Epoch 8/20 loss 0.47373 val_loss 0.42011 acc 0.84088 val_acc 0.85740\n",
            "Epoch 9/20 loss 0.41272 val_loss 0.36676 acc 0.86490 val_acc 0.88050\n",
            "Epoch 10/20 loss 0.34495 val_loss 0.33968 acc 0.89107 val_acc 0.89530\n",
            "Epoch 11/20 loss 0.31423 val_loss 0.26412 acc 0.90098 val_acc 0.91850\n",
            "Epoch 12/20 loss 0.28712 val_loss 0.30732 acc 0.90980 val_acc 0.90360\n",
            "Epoch 13/20 loss 0.26529 val_loss 0.27187 acc 0.91703 val_acc 0.91290\n",
            "Epoch 14/20 loss 0.24802 val_loss 0.22126 acc 0.92185 val_acc 0.93100\n",
            "Epoch 15/20 loss 0.22704 val_loss 0.18529 acc 0.92900 val_acc 0.94320\n",
            "Epoch 16/20 loss 0.20707 val_loss 0.18682 acc 0.93452 val_acc 0.94130\n",
            "Epoch 17/20 loss 0.19853 val_loss 0.17971 acc 0.93732 val_acc 0.94350\n",
            "Epoch 18/20 loss 0.18149 val_loss 0.17141 acc 0.94300 val_acc 0.94820\n",
            "Epoch 19/20 loss 0.17986 val_loss 0.17565 acc 0.94317 val_acc 0.94620\n",
            "Epoch 20/20 loss 0.17155 val_loss 0.15166 acc 0.94522 val_acc 0.95480\n"
          ]
        }
      ]
    },
    {
      "cell_type": "code",
      "source": [
        "ep = np.arange(0,epochs + 1,1)\n",
        "plt.plot(ep, gcnTrainLoss20, label=\"Train\")\n",
        "plt.plot(ep, gcnValLoss20, label=\"Validation\")\n",
        "\n",
        "plt.title(\"Loss\")\n",
        "plt.xlabel(\"Epochs\")\n",
        "plt.ylabel(\"Loss\")\n",
        "\n",
        "plt.legend()\n",
        "\n",
        "plt.show()"
      ],
      "metadata": {
        "colab": {
          "base_uri": "https://localhost:8080/",
          "height": 295
        },
        "id": "s6RTxlqFSIWf",
        "outputId": "6f664c1a-f96f-4d18-8760-36a0506e9847"
      },
      "execution_count": 49,
      "outputs": [
        {
          "output_type": "display_data",
          "data": {
            "image/png": "[encoded data removed]",
            "text/plain": [
              "<Figure size 432x288 with 1 Axes>"
            ]
          },
          "metadata": {
            "needs_background": "light"
          }
        }
      ]
    },
    {
      "cell_type": "code",
      "source": [
        "ep = np.arange(0,epochs + 1,1)\n",
        "plt.plot(ep, gcnTrainAcc20, label=\"Train\")\n",
        "plt.plot(ep, gcnValAcc20, label=\"Validation\")\n",
        "\n",
        "plt.title(\"Accuracy\")\n",
        "plt.xlabel(\"Epochs\")\n",
        "plt.ylabel(\"Accuracy\")\n",
        "\n",
        "plt.legend()\n",
        "\n",
        "plt.show()"
      ],
      "metadata": {
        "colab": {
          "base_uri": "https://localhost:8080/",
          "height": 295
        },
        "id": "uhmlV5iwSQiG",
        "outputId": "a0787091-1c46-4f0d-d6d0-81922bf3cb8f"
      },
      "execution_count": 50,
      "outputs": [
        {
          "output_type": "display_data",
          "data": {
            "image/png": "[encoded data removed]",
            "text/plain": [
              "<Figure size 432x288 with 1 Axes>"
            ]
          },
          "metadata": {
            "needs_background": "light"
          }
        }
      ]
    }
  ],
  "metadata": {
    "interpreter": {
      "hash": "2db524e06e9f5f4ffedc911c917cb75e12dbc923643829bf417064a77eb14d37"
    },
    "kernelspec": {
      "display_name": "Python 3.8.2 64-bit",
      "language": "python",
      "name": "python3"
    },
    "language_info": {
      "codemirror_mode": {
        "name": "ipython",
        "version": 3
      },
      "file_extension": ".py",
      "mimetype": "text/x-python",
      "name": "python",
      "nbconvert_exporter": "python",
      "pygments_lexer": "ipython3",
      "version": "3.8.2"
    },
    "orig_nbformat": 4,
    "colab": {
      "name": "Tesis.ipynb",
      "provenance": []
    },
    "accelerator": "GPU",
    "widgets": {
      "application/vnd.jupyter.widget-state+json": {
        "d33a9de7884440688ba787d98c6bd6c1": {
          "model_module": "@jupyter-widgets/controls",
          "model_name": "HBoxModel",
          "model_module_version": "1.5.0",
          "state": {
            "_view_name": "HBoxView",
            "_dom_classes": [],
            "_model_name": "HBoxModel",
            "_view_module": "@jupyter-widgets/controls",
            "_model_module_version": "1.5.0",
            "_view_count": null,
            "_view_module_version": "1.5.0",
            "box_style": "",
            "layout": "IPY_MODEL_4ffab45c0ed34363a1474eb57ae1f082",
            "_model_module": "@jupyter-widgets/controls",
            "children": [
              "IPY_MODEL_ced418dadb77450197c12e518d9fb96f",
              "IPY_MODEL_8e9c41cf14a046779de9c56d78da08d0",
              "IPY_MODEL_bea548044926462d8358f3240133d3c2"
            ]
          }
        },
        "4ffab45c0ed34363a1474eb57ae1f082": {
          "model_module": "@jupyter-widgets/base",
          "model_name": "LayoutModel",
          "model_module_version": "1.2.0",
          "state": {
            "_view_name": "LayoutView",
            "grid_template_rows": null,
            "right": null,
            "justify_content": null,
            "_view_module": "@jupyter-widgets/base",
            "overflow": null,
            "_model_module_version": "1.2.0",
            "_view_count": null,
            "flex_flow": null,
            "width": null,
            "min_width": null,
            "border": null,
            "align_items": null,
            "bottom": null,
            "_model_module": "@jupyter-widgets/base",
            "top": null,
            "grid_column": null,
            "overflow_y": null,
            "overflow_x": null,
            "grid_auto_flow": null,
            "grid_area": null,
            "grid_template_columns": null,
            "flex": null,
            "_model_name": "LayoutModel",
            "justify_items": null,
            "grid_row": null,
            "max_height": null,
            "align_content": null,
            "visibility": null,
            "align_self": null,
            "height": null,
            "min_height": null,
            "padding": null,
            "grid_auto_rows": null,
            "grid_gap": null,
            "max_width": null,
            "order": null,
            "_view_module_version": "1.2.0",
            "grid_template_areas": null,
            "object_position": null,
            "object_fit": null,
            "grid_auto_columns": null,
            "margin": null,
            "display": null,
            "left": null
          }
        },
        "ced418dadb77450197c12e518d9fb96f": {
          "model_module": "@jupyter-widgets/controls",
          "model_name": "HTMLModel",
          "model_module_version": "1.5.0",
          "state": {
            "_view_name": "HTMLView",
            "style": "IPY_MODEL_20aad3bea08149cc86959e2e7af87b84",
            "_dom_classes": [],
            "description": "",
            "_model_name": "HTMLModel",
            "placeholder": "​",
            "_view_module": "@jupyter-widgets/controls",
            "_model_module_version": "1.5.0",
            "value": "",
            "_view_count": null,
            "_view_module_version": "1.5.0",
            "description_tooltip": null,
            "_model_module": "@jupyter-widgets/controls",
            "layout": "IPY_MODEL_632177d47f454b508d95d1ad1ebe09ad"
          }
        },
        "8e9c41cf14a046779de9c56d78da08d0": {
          "model_module": "@jupyter-widgets/controls",
          "model_name": "FloatProgressModel",
          "model_module_version": "1.5.0",
          "state": {
            "_view_name": "ProgressView",
            "style": "IPY_MODEL_a331963a6b7c4d37ba602c5faf2a803d",
            "_dom_classes": [],
            "description": "",
            "_model_name": "FloatProgressModel",
            "bar_style": "success",
            "max": 9912422,
            "_view_module": "@jupyter-widgets/controls",
            "_model_module_version": "1.5.0",
            "value": 9912422,
            "_view_count": null,
            "_view_module_version": "1.5.0",
            "orientation": "horizontal",
            "min": 0,
            "description_tooltip": null,
            "_model_module": "@jupyter-widgets/controls",
            "layout": "IPY_MODEL_a5b32f8bc357462d80017ea0a53d8205"
          }
        },
        "bea548044926462d8358f3240133d3c2": {
          "model_module": "@jupyter-widgets/controls",
          "model_name": "HTMLModel",
          "model_module_version": "1.5.0",
          "state": {
            "_view_name": "HTMLView",
            "style": "IPY_MODEL_d5954db72a5440eb8de57b0b7b79f093",
            "_dom_classes": [],
            "description": "",
            "_model_name": "HTMLModel",
            "placeholder": "​",
            "_view_module": "@jupyter-widgets/controls",
            "_model_module_version": "1.5.0",
            "value": " 9913344/? [00:00&lt;00:00, 19749588.59it/s]",
            "_view_count": null,
            "_view_module_version": "1.5.0",
            "description_tooltip": null,
            "_model_module": "@jupyter-widgets/controls",
            "layout": "IPY_MODEL_2faa0c98aa734f76a9ba10785171c47c"
          }
        },
        "20aad3bea08149cc86959e2e7af87b84": {
          "model_module": "@jupyter-widgets/controls",
          "model_name": "DescriptionStyleModel",
          "model_module_version": "1.5.0",
          "state": {
            "_view_name": "StyleView",
            "_model_name": "DescriptionStyleModel",
            "description_width": "",
            "_view_module": "@jupyter-widgets/base",
            "_model_module_version": "1.5.0",
            "_view_count": null,
            "_view_module_version": "1.2.0",
            "_model_module": "@jupyter-widgets/controls"
          }
        },
        "632177d47f454b508d95d1ad1ebe09ad": {
          "model_module": "@jupyter-widgets/base",
          "model_name": "LayoutModel",
          "model_module_version": "1.2.0",
          "state": {
            "_view_name": "LayoutView",
            "grid_template_rows": null,
            "right": null,
            "justify_content": null,
            "_view_module": "@jupyter-widgets/base",
            "overflow": null,
            "_model_module_version": "1.2.0",
            "_view_count": null,
            "flex_flow": null,
            "width": null,
            "min_width": null,
            "border": null,
            "align_items": null,
            "bottom": null,
            "_model_module": "@jupyter-widgets/base",
            "top": null,
            "grid_column": null,
            "overflow_y": null,
            "overflow_x": null,
            "grid_auto_flow": null,
            "grid_area": null,
            "grid_template_columns": null,
            "flex": null,
            "_model_name": "LayoutModel",
            "justify_items": null,
            "grid_row": null,
            "max_height": null,
            "align_content": null,
            "visibility": null,
            "align_self": null,
            "height": null,
            "min_height": null,
            "padding": null,
            "grid_auto_rows": null,
            "grid_gap": null,
            "max_width": null,
            "order": null,
            "_view_module_version": "1.2.0",
            "grid_template_areas": null,
            "object_position": null,
            "object_fit": null,
            "grid_auto_columns": null,
            "margin": null,
            "display": null,
            "left": null
          }
        },
        "a331963a6b7c4d37ba602c5faf2a803d": {
          "model_module": "@jupyter-widgets/controls",
          "model_name": "ProgressStyleModel",
          "model_module_version": "1.5.0",
          "state": {
            "_view_name": "StyleView",
            "_model_name": "ProgressStyleModel",
            "description_width": "",
            "_view_module": "@jupyter-widgets/base",
            "_model_module_version": "1.5.0",
            "_view_count": null,
            "_view_module_version": "1.2.0",
            "bar_color": null,
            "_model_module": "@jupyter-widgets/controls"
          }
        },
        "a5b32f8bc357462d80017ea0a53d8205": {
          "model_module": "@jupyter-widgets/base",
          "model_name": "LayoutModel",
          "model_module_version": "1.2.0",
          "state": {
            "_view_name": "LayoutView",
            "grid_template_rows": null,
            "right": null,
            "justify_content": null,
            "_view_module": "@jupyter-widgets/base",
            "overflow": null,
            "_model_module_version": "1.2.0",
            "_view_count": null,
            "flex_flow": null,
            "width": null,
            "min_width": null,
            "border": null,
            "align_items": null,
            "bottom": null,
            "_model_module": "@jupyter-widgets/base",
            "top": null,
            "grid_column": null,
            "overflow_y": null,
            "overflow_x": null,
            "grid_auto_flow": null,
            "grid_area": null,
            "grid_template_columns": null,
            "flex": null,
            "_model_name": "LayoutModel",
            "justify_items": null,
            "grid_row": null,
            "max_height": null,
            "align_content": null,
            "visibility": null,
            "align_self": null,
            "height": null,
            "min_height": null,
            "padding": null,
            "grid_auto_rows": null,
            "grid_gap": null,
            "max_width": null,
            "order": null,
            "_view_module_version": "1.2.0",
            "grid_template_areas": null,
            "object_position": null,
            "object_fit": null,
            "grid_auto_columns": null,
            "margin": null,
            "display": null,
            "left": null
          }
        },
        "d5954db72a5440eb8de57b0b7b79f093": {
          "model_module": "@jupyter-widgets/controls",
          "model_name": "DescriptionStyleModel",
          "model_module_version": "1.5.0",
          "state": {
            "_view_name": "StyleView",
            "_model_name": "DescriptionStyleModel",
            "description_width": "",
            "_view_module": "@jupyter-widgets/base",
            "_model_module_version": "1.5.0",
            "_view_count": null,
            "_view_module_version": "1.2.0",
            "_model_module": "@jupyter-widgets/controls"
          }
        },
        "2faa0c98aa734f76a9ba10785171c47c": {
          "model_module": "@jupyter-widgets/base",
          "model_name": "LayoutModel",
          "model_module_version": "1.2.0",
          "state": {
            "_view_name": "LayoutView",
            "grid_template_rows": null,
            "right": null,
            "justify_content": null,
            "_view_module": "@jupyter-widgets/base",
            "overflow": null,
            "_model_module_version": "1.2.0",
            "_view_count": null,
            "flex_flow": null,
            "width": null,
            "min_width": null,
            "border": null,
            "align_items": null,
            "bottom": null,
            "_model_module": "@jupyter-widgets/base",
            "top": null,
            "grid_column": null,
            "overflow_y": null,
            "overflow_x": null,
            "grid_auto_flow": null,
            "grid_area": null,
            "grid_template_columns": null,
            "flex": null,
            "_model_name": "LayoutModel",
            "justify_items": null,
            "grid_row": null,
            "max_height": null,
            "align_content": null,
            "visibility": null,
            "align_self": null,
            "height": null,
            "min_height": null,
            "padding": null,
            "grid_auto_rows": null,
            "grid_gap": null,
            "max_width": null,
            "order": null,
            "_view_module_version": "1.2.0",
            "grid_template_areas": null,
            "object_position": null,
            "object_fit": null,
            "grid_auto_columns": null,
            "margin": null,
            "display": null,
            "left": null
          }
        },
        "917be3272fbc4c57a9b9e38d6be2abf7": {
          "model_module": "@jupyter-widgets/controls",
          "model_name": "HBoxModel",
          "model_module_version": "1.5.0",
          "state": {
            "_view_name": "HBoxView",
            "_dom_classes": [],
            "_model_name": "HBoxModel",
            "_view_module": "@jupyter-widgets/controls",
            "_model_module_version": "1.5.0",
            "_view_count": null,
            "_view_module_version": "1.5.0",
            "box_style": "",
            "layout": "IPY_MODEL_4fcb6e4d7aad43909bfa80f8b68a85aa",
            "_model_module": "@jupyter-widgets/controls",
            "children": [
              "IPY_MODEL_6e932eb7d8bf44ec9fbf333d2649c987",
              "IPY_MODEL_720c36fbc53a498cadd9eea9a04447d3",
              "IPY_MODEL_8cc1fd6897614bd1a149e6c4dc96b4b9"
            ]
          }
        },
        "4fcb6e4d7aad43909bfa80f8b68a85aa": {
          "model_module": "@jupyter-widgets/base",
          "model_name": "LayoutModel",
          "model_module_version": "1.2.0",
          "state": {
            "_view_name": "LayoutView",
            "grid_template_rows": null,
            "right": null,
            "justify_content": null,
            "_view_module": "@jupyter-widgets/base",
            "overflow": null,
            "_model_module_version": "1.2.0",
            "_view_count": null,
            "flex_flow": null,
            "width": null,
            "min_width": null,
            "border": null,
            "align_items": null,
            "bottom": null,
            "_model_module": "@jupyter-widgets/base",
            "top": null,
            "grid_column": null,
            "overflow_y": null,
            "overflow_x": null,
            "grid_auto_flow": null,
            "grid_area": null,
            "grid_template_columns": null,
            "flex": null,
            "_model_name": "LayoutModel",
            "justify_items": null,
            "grid_row": null,
            "max_height": null,
            "align_content": null,
            "visibility": null,
            "align_self": null,
            "height": null,
            "min_height": null,
            "padding": null,
            "grid_auto_rows": null,
            "grid_gap": null,
            "max_width": null,
            "order": null,
            "_view_module_version": "1.2.0",
            "grid_template_areas": null,
            "object_position": null,
            "object_fit": null,
            "grid_auto_columns": null,
            "margin": null,
            "display": null,
            "left": null
          }
        },
        "6e932eb7d8bf44ec9fbf333d2649c987": {
          "model_module": "@jupyter-widgets/controls",
          "model_name": "HTMLModel",
          "model_module_version": "1.5.0",
          "state": {
            "_view_name": "HTMLView",
            "style": "IPY_MODEL_12bf0414b8f54ea980b8d4aeb2e4bcfa",
            "_dom_classes": [],
            "description": "",
            "_model_name": "HTMLModel",
            "placeholder": "​",
            "_view_module": "@jupyter-widgets/controls",
            "_model_module_version": "1.5.0",
            "value": "",
            "_view_count": null,
            "_view_module_version": "1.5.0",
            "description_tooltip": null,
            "_model_module": "@jupyter-widgets/controls",
            "layout": "IPY_MODEL_18ef91845d8c42de8a1051665a709e28"
          }
        },
        "720c36fbc53a498cadd9eea9a04447d3": {
          "model_module": "@jupyter-widgets/controls",
          "model_name": "FloatProgressModel",
          "model_module_version": "1.5.0",
          "state": {
            "_view_name": "ProgressView",
            "style": "IPY_MODEL_bf3df7cd374a45dcafbfd331000f4783",
            "_dom_classes": [],
            "description": "",
            "_model_name": "FloatProgressModel",
            "bar_style": "success",
            "max": 28881,
            "_view_module": "@jupyter-widgets/controls",
            "_model_module_version": "1.5.0",
            "value": 28881,
            "_view_count": null,
            "_view_module_version": "1.5.0",
            "orientation": "horizontal",
            "min": 0,
            "description_tooltip": null,
            "_model_module": "@jupyter-widgets/controls",
            "layout": "IPY_MODEL_cba0916c2b774310a16188ebc6832047"
          }
        },
        "8cc1fd6897614bd1a149e6c4dc96b4b9": {
          "model_module": "@jupyter-widgets/controls",
          "model_name": "HTMLModel",
          "model_module_version": "1.5.0",
          "state": {
            "_view_name": "HTMLView",
            "style": "IPY_MODEL_2b5f4af307a9459eb9572622acc7bf94",
            "_dom_classes": [],
            "description": "",
            "_model_name": "HTMLModel",
            "placeholder": "​",
            "_view_module": "@jupyter-widgets/controls",
            "_model_module_version": "1.5.0",
            "value": " 29696/? [00:00&lt;00:00, 783930.74it/s]",
            "_view_count": null,
            "_view_module_version": "1.5.0",
            "description_tooltip": null,
            "_model_module": "@jupyter-widgets/controls",
            "layout": "IPY_MODEL_3b013f2e19eb423dbfac51238ac6a88c"
          }
        },
        "12bf0414b8f54ea980b8d4aeb2e4bcfa": {
          "model_module": "@jupyter-widgets/controls",
          "model_name": "DescriptionStyleModel",
          "model_module_version": "1.5.0",
          "state": {
            "_view_name": "StyleView",
            "_model_name": "DescriptionStyleModel",
            "description_width": "",
            "_view_module": "@jupyter-widgets/base",
            "_model_module_version": "1.5.0",
            "_view_count": null,
            "_view_module_version": "1.2.0",
            "_model_module": "@jupyter-widgets/controls"
          }
        },
        "18ef91845d8c42de8a1051665a709e28": {
          "model_module": "@jupyter-widgets/base",
          "model_name": "LayoutModel",
          "model_module_version": "1.2.0",
          "state": {
            "_view_name": "LayoutView",
            "grid_template_rows": null,
            "right": null,
            "justify_content": null,
            "_view_module": "@jupyter-widgets/base",
            "overflow": null,
            "_model_module_version": "1.2.0",
            "_view_count": null,
            "flex_flow": null,
            "width": null,
            "min_width": null,
            "border": null,
            "align_items": null,
            "bottom": null,
            "_model_module": "@jupyter-widgets/base",
            "top": null,
            "grid_column": null,
            "overflow_y": null,
            "overflow_x": null,
            "grid_auto_flow": null,
            "grid_area": null,
            "grid_template_columns": null,
            "flex": null,
            "_model_name": "LayoutModel",
            "justify_items": null,
            "grid_row": null,
            "max_height": null,
            "align_content": null,
            "visibility": null,
            "align_self": null,
            "height": null,
            "min_height": null,
            "padding": null,
            "grid_auto_rows": null,
            "grid_gap": null,
            "max_width": null,
            "order": null,
            "_view_module_version": "1.2.0",
            "grid_template_areas": null,
            "object_position": null,
            "object_fit": null,
            "grid_auto_columns": null,
            "margin": null,
            "display": null,
            "left": null
          }
        },
        "bf3df7cd374a45dcafbfd331000f4783": {
          "model_module": "@jupyter-widgets/controls",
          "model_name": "ProgressStyleModel",
          "model_module_version": "1.5.0",
          "state": {
            "_view_name": "StyleView",
            "_model_name": "ProgressStyleModel",
            "description_width": "",
            "_view_module": "@jupyter-widgets/base",
            "_model_module_version": "1.5.0",
            "_view_count": null,
            "_view_module_version": "1.2.0",
            "bar_color": null,
            "_model_module": "@jupyter-widgets/controls"
          }
        },
        "cba0916c2b774310a16188ebc6832047": {
          "model_module": "@jupyter-widgets/base",
          "model_name": "LayoutModel",
          "model_module_version": "1.2.0",
          "state": {
            "_view_name": "LayoutView",
            "grid_template_rows": null,
            "right": null,
            "justify_content": null,
            "_view_module": "@jupyter-widgets/base",
            "overflow": null,
            "_model_module_version": "1.2.0",
            "_view_count": null,
            "flex_flow": null,
            "width": null,
            "min_width": null,
            "border": null,
            "align_items": null,
            "bottom": null,
            "_model_module": "@jupyter-widgets/base",
            "top": null,
            "grid_column": null,
            "overflow_y": null,
            "overflow_x": null,
            "grid_auto_flow": null,
            "grid_area": null,
            "grid_template_columns": null,
            "flex": null,
            "_model_name": "LayoutModel",
            "justify_items": null,
            "grid_row": null,
            "max_height": null,
            "align_content": null,
            "visibility": null,
            "align_self": null,
            "height": null,
            "min_height": null,
            "padding": null,
            "grid_auto_rows": null,
            "grid_gap": null,
            "max_width": null,
            "order": null,
            "_view_module_version": "1.2.0",
            "grid_template_areas": null,
            "object_position": null,
            "object_fit": null,
            "grid_auto_columns": null,
            "margin": null,
            "display": null,
            "left": null
          }
        },
        "2b5f4af307a9459eb9572622acc7bf94": {
          "model_module": "@jupyter-widgets/controls",
          "model_name": "DescriptionStyleModel",
          "model_module_version": "1.5.0",
          "state": {
            "_view_name": "StyleView",
            "_model_name": "DescriptionStyleModel",
            "description_width": "",
            "_view_module": "@jupyter-widgets/base",
            "_model_module_version": "1.5.0",
            "_view_count": null,
            "_view_module_version": "1.2.0",
            "_model_module": "@jupyter-widgets/controls"
          }
        },
        "3b013f2e19eb423dbfac51238ac6a88c": {
          "model_module": "@jupyter-widgets/base",
          "model_name": "LayoutModel",
          "model_module_version": "1.2.0",
          "state": {
            "_view_name": "LayoutView",
            "grid_template_rows": null,
            "right": null,
            "justify_content": null,
            "_view_module": "@jupyter-widgets/base",
            "overflow": null,
            "_model_module_version": "1.2.0",
            "_view_count": null,
            "flex_flow": null,
            "width": null,
            "min_width": null,
            "border": null,
            "align_items": null,
            "bottom": null,
            "_model_module": "@jupyter-widgets/base",
            "top": null,
            "grid_column": null,
            "overflow_y": null,
            "overflow_x": null,
            "grid_auto_flow": null,
            "grid_area": null,
            "grid_template_columns": null,
            "flex": null,
            "_model_name": "LayoutModel",
            "justify_items": null,
            "grid_row": null,
            "max_height": null,
            "align_content": null,
            "visibility": null,
            "align_self": null,
            "height": null,
            "min_height": null,
            "padding": null,
            "grid_auto_rows": null,
            "grid_gap": null,
            "max_width": null,
            "order": null,
            "_view_module_version": "1.2.0",
            "grid_template_areas": null,
            "object_position": null,
            "object_fit": null,
            "grid_auto_columns": null,
            "margin": null,
            "display": null,
            "left": null
          }
        },
        "b97af0ab4833499681a247dbbb849cf0": {
          "model_module": "@jupyter-widgets/controls",
          "model_name": "HBoxModel",
          "model_module_version": "1.5.0",
          "state": {
            "_view_name": "HBoxView",
            "_dom_classes": [],
            "_model_name": "HBoxModel",
            "_view_module": "@jupyter-widgets/controls",
            "_model_module_version": "1.5.0",
            "_view_count": null,
            "_view_module_version": "1.5.0",
            "box_style": "",
            "layout": "IPY_MODEL_ed14aeed48574d5786621a87a518bad6",
            "_model_module": "@jupyter-widgets/controls",
            "children": [
              "IPY_MODEL_beae79c0b46d4e6a9b6d2275edbaaf42",
              "IPY_MODEL_a0006076a9cc49178f84d867dfaeb5b5",
              "IPY_MODEL_8aab5b2066bc449ab56518f27e5674ff"
            ]
          }
        },
        "ed14aeed48574d5786621a87a518bad6": {
          "model_module": "@jupyter-widgets/base",
          "model_name": "LayoutModel",
          "model_module_version": "1.2.0",
          "state": {
            "_view_name": "LayoutView",
            "grid_template_rows": null,
            "right": null,
            "justify_content": null,
            "_view_module": "@jupyter-widgets/base",
            "overflow": null,
            "_model_module_version": "1.2.0",
            "_view_count": null,
            "flex_flow": null,
            "width": null,
            "min_width": null,
            "border": null,
            "align_items": null,
            "bottom": null,
            "_model_module": "@jupyter-widgets/base",
            "top": null,
            "grid_column": null,
            "overflow_y": null,
            "overflow_x": null,
            "grid_auto_flow": null,
            "grid_area": null,
            "grid_template_columns": null,
            "flex": null,
            "_model_name": "LayoutModel",
            "justify_items": null,
            "grid_row": null,
            "max_height": null,
            "align_content": null,
            "visibility": null,
            "align_self": null,
            "height": null,
            "min_height": null,
            "padding": null,
            "grid_auto_rows": null,
            "grid_gap": null,
            "max_width": null,
            "order": null,
            "_view_module_version": "1.2.0",
            "grid_template_areas": null,
            "object_position": null,
            "object_fit": null,
            "grid_auto_columns": null,
            "margin": null,
            "display": null,
            "left": null
          }
        },
        "beae79c0b46d4e6a9b6d2275edbaaf42": {
          "model_module": "@jupyter-widgets/controls",
          "model_name": "HTMLModel",
          "model_module_version": "1.5.0",
          "state": {
            "_view_name": "HTMLView",
            "style": "IPY_MODEL_9d3c644e855b436984c10fb7b6513da5",
            "_dom_classes": [],
            "description": "",
            "_model_name": "HTMLModel",
            "placeholder": "​",
            "_view_module": "@jupyter-widgets/controls",
            "_model_module_version": "1.5.0",
            "value": "",
            "_view_count": null,
            "_view_module_version": "1.5.0",
            "description_tooltip": null,
            "_model_module": "@jupyter-widgets/controls",
            "layout": "IPY_MODEL_ecbd324ddf794ee3ab69ca7eddc386e0"
          }
        },
        "a0006076a9cc49178f84d867dfaeb5b5": {
          "model_module": "@jupyter-widgets/controls",
          "model_name": "FloatProgressModel",
          "model_module_version": "1.5.0",
          "state": {
            "_view_name": "ProgressView",
            "style": "IPY_MODEL_6a0e04f8644d4951a3517b8998060b69",
            "_dom_classes": [],
            "description": "",
            "_model_name": "FloatProgressModel",
            "bar_style": "success",
            "max": 1648877,
            "_view_module": "@jupyter-widgets/controls",
            "_model_module_version": "1.5.0",
            "value": 1648877,
            "_view_count": null,
            "_view_module_version": "1.5.0",
            "orientation": "horizontal",
            "min": 0,
            "description_tooltip": null,
            "_model_module": "@jupyter-widgets/controls",
            "layout": "IPY_MODEL_6d1f647c5e3e44a0adb3c53926135078"
          }
        },
        "8aab5b2066bc449ab56518f27e5674ff": {
          "model_module": "@jupyter-widgets/controls",
          "model_name": "HTMLModel",
          "model_module_version": "1.5.0",
          "state": {
            "_view_name": "HTMLView",
            "style": "IPY_MODEL_0454d6c23d4f4f47afd53a4a1c03bee4",
            "_dom_classes": [],
            "description": "",
            "_model_name": "HTMLModel",
            "placeholder": "​",
            "_view_module": "@jupyter-widgets/controls",
            "_model_module_version": "1.5.0",
            "value": " 1649664/? [00:00&lt;00:00, 20949981.57it/s]",
            "_view_count": null,
            "_view_module_version": "1.5.0",
            "description_tooltip": null,
            "_model_module": "@jupyter-widgets/controls",
            "layout": "IPY_MODEL_22269cfa58d44276b6e5802436dfa627"
          }
        },
        "9d3c644e855b436984c10fb7b6513da5": {
          "model_module": "@jupyter-widgets/controls",
          "model_name": "DescriptionStyleModel",
          "model_module_version": "1.5.0",
          "state": {
            "_view_name": "StyleView",
            "_model_name": "DescriptionStyleModel",
            "description_width": "",
            "_view_module": "@jupyter-widgets/base",
            "_model_module_version": "1.5.0",
            "_view_count": null,
            "_view_module_version": "1.2.0",
            "_model_module": "@jupyter-widgets/controls"
          }
        },
        "ecbd324ddf794ee3ab69ca7eddc386e0": {
          "model_module": "@jupyter-widgets/base",
          "model_name": "LayoutModel",
          "model_module_version": "1.2.0",
          "state": {
            "_view_name": "LayoutView",
            "grid_template_rows": null,
            "right": null,
            "justify_content": null,
            "_view_module": "@jupyter-widgets/base",
            "overflow": null,
            "_model_module_version": "1.2.0",
            "_view_count": null,
            "flex_flow": null,
            "width": null,
            "min_width": null,
            "border": null,
            "align_items": null,
            "bottom": null,
            "_model_module": "@jupyter-widgets/base",
            "top": null,
            "grid_column": null,
            "overflow_y": null,
            "overflow_x": null,
            "grid_auto_flow": null,
            "grid_area": null,
            "grid_template_columns": null,
            "flex": null,
            "_model_name": "LayoutModel",
            "justify_items": null,
            "grid_row": null,
            "max_height": null,
            "align_content": null,
            "visibility": null,
            "align_self": null,
            "height": null,
            "min_height": null,
            "padding": null,
            "grid_auto_rows": null,
            "grid_gap": null,
            "max_width": null,
            "order": null,
            "_view_module_version": "1.2.0",
            "grid_template_areas": null,
            "object_position": null,
            "object_fit": null,
            "grid_auto_columns": null,
            "margin": null,
            "display": null,
            "left": null
          }
        },
        "6a0e04f8644d4951a3517b8998060b69": {
          "model_module": "@jupyter-widgets/controls",
          "model_name": "ProgressStyleModel",
          "model_module_version": "1.5.0",
          "state": {
            "_view_name": "StyleView",
            "_model_name": "ProgressStyleModel",
            "description_width": "",
            "_view_module": "@jupyter-widgets/base",
            "_model_module_version": "1.5.0",
            "_view_count": null,
            "_view_module_version": "1.2.0",
            "bar_color": null,
            "_model_module": "@jupyter-widgets/controls"
          }
        },
        "6d1f647c5e3e44a0adb3c53926135078": {
          "model_module": "@jupyter-widgets/base",
          "model_name": "LayoutModel",
          "model_module_version": "1.2.0",
          "state": {
            "_view_name": "LayoutView",
            "grid_template_rows": null,
            "right": null,
            "justify_content": null,
            "_view_module": "@jupyter-widgets/base",
            "overflow": null,
            "_model_module_version": "1.2.0",
            "_view_count": null,
            "flex_flow": null,
            "width": null,
            "min_width": null,
            "border": null,
            "align_items": null,
            "bottom": null,
            "_model_module": "@jupyter-widgets/base",
            "top": null,
            "grid_column": null,
            "overflow_y": null,
            "overflow_x": null,
            "grid_auto_flow": null,
            "grid_area": null,
            "grid_template_columns": null,
            "flex": null,
            "_model_name": "LayoutModel",
            "justify_items": null,
            "grid_row": null,
            "max_height": null,
            "align_content": null,
            "visibility": null,
            "align_self": null,
            "height": null,
            "min_height": null,
            "padding": null,
            "grid_auto_rows": null,
            "grid_gap": null,
            "max_width": null,
            "order": null,
            "_view_module_version": "1.2.0",
            "grid_template_areas": null,
            "object_position": null,
            "object_fit": null,
            "grid_auto_columns": null,
            "margin": null,
            "display": null,
            "left": null
          }
        },
        "0454d6c23d4f4f47afd53a4a1c03bee4": {
          "model_module": "@jupyter-widgets/controls",
          "model_name": "DescriptionStyleModel",
          "model_module_version": "1.5.0",
          "state": {
            "_view_name": "StyleView",
            "_model_name": "DescriptionStyleModel",
            "description_width": "",
            "_view_module": "@jupyter-widgets/base",
            "_model_module_version": "1.5.0",
            "_view_count": null,
            "_view_module_version": "1.2.0",
            "_model_module": "@jupyter-widgets/controls"
          }
        },
        "22269cfa58d44276b6e5802436dfa627": {
          "model_module": "@jupyter-widgets/base",
          "model_name": "LayoutModel",
          "model_module_version": "1.2.0",
          "state": {
            "_view_name": "LayoutView",
            "grid_template_rows": null,
            "right": null,
            "justify_content": null,
            "_view_module": "@jupyter-widgets/base",
            "overflow": null,
            "_model_module_version": "1.2.0",
            "_view_count": null,
            "flex_flow": null,
            "width": null,
            "min_width": null,
            "border": null,
            "align_items": null,
            "bottom": null,
            "_model_module": "@jupyter-widgets/base",
            "top": null,
            "grid_column": null,
            "overflow_y": null,
            "overflow_x": null,
            "grid_auto_flow": null,
            "grid_area": null,
            "grid_template_columns": null,
            "flex": null,
            "_model_name": "LayoutModel",
            "justify_items": null,
            "grid_row": null,
            "max_height": null,
            "align_content": null,
            "visibility": null,
            "align_self": null,
            "height": null,
            "min_height": null,
            "padding": null,
            "grid_auto_rows": null,
            "grid_gap": null,
            "max_width": null,
            "order": null,
            "_view_module_version": "1.2.0",
            "grid_template_areas": null,
            "object_position": null,
            "object_fit": null,
            "grid_auto_columns": null,
            "margin": null,
            "display": null,
            "left": null
          }
        },
        "27ccaf33307b4361af54598c6a3c4d05": {
          "model_module": "@jupyter-widgets/controls",
          "model_name": "HBoxModel",
          "model_module_version": "1.5.0",
          "state": {
            "_view_name": "HBoxView",
            "_dom_classes": [],
            "_model_name": "HBoxModel",
            "_view_module": "@jupyter-widgets/controls",
            "_model_module_version": "1.5.0",
            "_view_count": null,
            "_view_module_version": "1.5.0",
            "box_style": "",
            "layout": "IPY_MODEL_f90e2b03b68045a4a3c3776b6027e337",
            "_model_module": "@jupyter-widgets/controls",
            "children": [
              "IPY_MODEL_4faaaa45ce3f4e01b4d88f090ccf56c1",
              "IPY_MODEL_07385d4638cb4930a316c52e44575c05",
              "IPY_MODEL_5dd76fe6306b4a878e31cff241a293b4"
            ]
          }
        },
        "f90e2b03b68045a4a3c3776b6027e337": {
          "model_module": "@jupyter-widgets/base",
          "model_name": "LayoutModel",
          "model_module_version": "1.2.0",
          "state": {
            "_view_name": "LayoutView",
            "grid_template_rows": null,
            "right": null,
            "justify_content": null,
            "_view_module": "@jupyter-widgets/base",
            "overflow": null,
            "_model_module_version": "1.2.0",
            "_view_count": null,
            "flex_flow": null,
            "width": null,
            "min_width": null,
            "border": null,
            "align_items": null,
            "bottom": null,
            "_model_module": "@jupyter-widgets/base",
            "top": null,
            "grid_column": null,
            "overflow_y": null,
            "overflow_x": null,
            "grid_auto_flow": null,
            "grid_area": null,
            "grid_template_columns": null,
            "flex": null,
            "_model_name": "LayoutModel",
            "justify_items": null,
            "grid_row": null,
            "max_height": null,
            "align_content": null,
            "visibility": null,
            "align_self": null,
            "height": null,
            "min_height": null,
            "padding": null,
            "grid_auto_rows": null,
            "grid_gap": null,
            "max_width": null,
            "order": null,
            "_view_module_version": "1.2.0",
            "grid_template_areas": null,
            "object_position": null,
            "object_fit": null,
            "grid_auto_columns": null,
            "margin": null,
            "display": null,
            "left": null
          }
        },
        "4faaaa45ce3f4e01b4d88f090ccf56c1": {
          "model_module": "@jupyter-widgets/controls",
          "model_name": "HTMLModel",
          "model_module_version": "1.5.0",
          "state": {
            "_view_name": "HTMLView",
            "style": "IPY_MODEL_e817dd30ee264dfcbad86dc86cc5fb2b",
            "_dom_classes": [],
            "description": "",
            "_model_name": "HTMLModel",
            "placeholder": "​",
            "_view_module": "@jupyter-widgets/controls",
            "_model_module_version": "1.5.0",
            "value": "",
            "_view_count": null,
            "_view_module_version": "1.5.0",
            "description_tooltip": null,
            "_model_module": "@jupyter-widgets/controls",
            "layout": "IPY_MODEL_9aea9e406e5c46fc94eb26d26a9fe5ff"
          }
        },
        "07385d4638cb4930a316c52e44575c05": {
          "model_module": "@jupyter-widgets/controls",
          "model_name": "FloatProgressModel",
          "model_module_version": "1.5.0",
          "state": {
            "_view_name": "ProgressView",
            "style": "IPY_MODEL_3b97ada5f798416394b495c89999d9f1",
            "_dom_classes": [],
            "description": "",
            "_model_name": "FloatProgressModel",
            "bar_style": "success",
            "max": 4542,
            "_view_module": "@jupyter-widgets/controls",
            "_model_module_version": "1.5.0",
            "value": 4542,
            "_view_count": null,
            "_view_module_version": "1.5.0",
            "orientation": "horizontal",
            "min": 0,
            "description_tooltip": null,
            "_model_module": "@jupyter-widgets/controls",
            "layout": "IPY_MODEL_3c3455c11f294ac6900d93e6d7654980"
          }
        },
        "5dd76fe6306b4a878e31cff241a293b4": {
          "model_module": "@jupyter-widgets/controls",
          "model_name": "HTMLModel",
          "model_module_version": "1.5.0",
          "state": {
            "_view_name": "HTMLView",
            "style": "IPY_MODEL_d64dc980adce4dd28a166101e80aa0eb",
            "_dom_classes": [],
            "description": "",
            "_model_name": "HTMLModel",
            "placeholder": "​",
            "_view_module": "@jupyter-widgets/controls",
            "_model_module_version": "1.5.0",
            "value": " 5120/? [00:00&lt;00:00, 131123.22it/s]",
            "_view_count": null,
            "_view_module_version": "1.5.0",
            "description_tooltip": null,
            "_model_module": "@jupyter-widgets/controls",
            "layout": "IPY_MODEL_24f3b8248e984eea89d252c3ec878aac"
          }
        },
        "e817dd30ee264dfcbad86dc86cc5fb2b": {
          "model_module": "@jupyter-widgets/controls",
          "model_name": "DescriptionStyleModel",
          "model_module_version": "1.5.0",
          "state": {
            "_view_name": "StyleView",
            "_model_name": "DescriptionStyleModel",
            "description_width": "",
            "_view_module": "@jupyter-widgets/base",
            "_model_module_version": "1.5.0",
            "_view_count": null,
            "_view_module_version": "1.2.0",
            "_model_module": "@jupyter-widgets/controls"
          }
        },
        "9aea9e406e5c46fc94eb26d26a9fe5ff": {
          "model_module": "@jupyter-widgets/base",
          "model_name": "LayoutModel",
          "model_module_version": "1.2.0",
          "state": {
            "_view_name": "LayoutView",
            "grid_template_rows": null,
            "right": null,
            "justify_content": null,
            "_view_module": "@jupyter-widgets/base",
            "overflow": null,
            "_model_module_version": "1.2.0",
            "_view_count": null,
            "flex_flow": null,
            "width": null,
            "min_width": null,
            "border": null,
            "align_items": null,
            "bottom": null,
            "_model_module": "@jupyter-widgets/base",
            "top": null,
            "grid_column": null,
            "overflow_y": null,
            "overflow_x": null,
            "grid_auto_flow": null,
            "grid_area": null,
            "grid_template_columns": null,
            "flex": null,
            "_model_name": "LayoutModel",
            "justify_items": null,
            "grid_row": null,
            "max_height": null,
            "align_content": null,
            "visibility": null,
            "align_self": null,
            "height": null,
            "min_height": null,
            "padding": null,
            "grid_auto_rows": null,
            "grid_gap": null,
            "max_width": null,
            "order": null,
            "_view_module_version": "1.2.0",
            "grid_template_areas": null,
            "object_position": null,
            "object_fit": null,
            "grid_auto_columns": null,
            "margin": null,
            "display": null,
            "left": null
          }
        },
        "3b97ada5f798416394b495c89999d9f1": {
          "model_module": "@jupyter-widgets/controls",
          "model_name": "ProgressStyleModel",
          "model_module_version": "1.5.0",
          "state": {
            "_view_name": "StyleView",
            "_model_name": "ProgressStyleModel",
            "description_width": "",
            "_view_module": "@jupyter-widgets/base",
            "_model_module_version": "1.5.0",
            "_view_count": null,
            "_view_module_version": "1.2.0",
            "bar_color": null,
            "_model_module": "@jupyter-widgets/controls"
          }
        },
        "3c3455c11f294ac6900d93e6d7654980": {
          "model_module": "@jupyter-widgets/base",
          "model_name": "LayoutModel",
          "model_module_version": "1.2.0",
          "state": {
            "_view_name": "LayoutView",
            "grid_template_rows": null,
            "right": null,
            "justify_content": null,
            "_view_module": "@jupyter-widgets/base",
            "overflow": null,
            "_model_module_version": "1.2.0",
            "_view_count": null,
            "flex_flow": null,
            "width": null,
            "min_width": null,
            "border": null,
            "align_items": null,
            "bottom": null,
            "_model_module": "@jupyter-widgets/base",
            "top": null,
            "grid_column": null,
            "overflow_y": null,
            "overflow_x": null,
            "grid_auto_flow": null,
            "grid_area": null,
            "grid_template_columns": null,
            "flex": null,
            "_model_name": "LayoutModel",
            "justify_items": null,
            "grid_row": null,
            "max_height": null,
            "align_content": null,
            "visibility": null,
            "align_self": null,
            "height": null,
            "min_height": null,
            "padding": null,
            "grid_auto_rows": null,
            "grid_gap": null,
            "max_width": null,
            "order": null,
            "_view_module_version": "1.2.0",
            "grid_template_areas": null,
            "object_position": null,
            "object_fit": null,
            "grid_auto_columns": null,
            "margin": null,
            "display": null,
            "left": null
          }
        },
        "d64dc980adce4dd28a166101e80aa0eb": {
          "model_module": "@jupyter-widgets/controls",
          "model_name": "DescriptionStyleModel",
          "model_module_version": "1.5.0",
          "state": {
            "_view_name": "StyleView",
            "_model_name": "DescriptionStyleModel",
            "description_width": "",
            "_view_module": "@jupyter-widgets/base",
            "_model_module_version": "1.5.0",
            "_view_count": null,
            "_view_module_version": "1.2.0",
            "_model_module": "@jupyter-widgets/controls"
          }
        },
        "24f3b8248e984eea89d252c3ec878aac": {
          "model_module": "@jupyter-widgets/base",
          "model_name": "LayoutModel",
          "model_module_version": "1.2.0",
          "state": {
            "_view_name": "LayoutView",
            "grid_template_rows": null,
            "right": null,
            "justify_content": null,
            "_view_module": "@jupyter-widgets/base",
            "overflow": null,
            "_model_module_version": "1.2.0",
            "_view_count": null,
            "flex_flow": null,
            "width": null,
            "min_width": null,
            "border": null,
            "align_items": null,
            "bottom": null,
            "_model_module": "@jupyter-widgets/base",
            "top": null,
            "grid_column": null,
            "overflow_y": null,
            "overflow_x": null,
            "grid_auto_flow": null,
            "grid_area": null,
            "grid_template_columns": null,
            "flex": null,
            "_model_name": "LayoutModel",
            "justify_items": null,
            "grid_row": null,
            "max_height": null,
            "align_content": null,
            "visibility": null,
            "align_self": null,
            "height": null,
            "min_height": null,
            "padding": null,
            "grid_auto_rows": null,
            "grid_gap": null,
            "max_width": null,
            "order": null,
            "_view_module_version": "1.2.0",
            "grid_template_areas": null,
            "object_position": null,
            "object_fit": null,
            "grid_auto_columns": null,
            "margin": null,
            "display": null,
            "left": null
          }
        }
      }
    }
  },
  "nbformat": 4,
  "nbformat_minor": 0
}